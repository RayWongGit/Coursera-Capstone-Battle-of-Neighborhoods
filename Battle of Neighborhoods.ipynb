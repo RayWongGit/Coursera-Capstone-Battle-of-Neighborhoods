{
 "cells": [
  {
   "cell_type": "markdown",
   "metadata": {},
   "source": [
    "# Battle of Neighborhoods\n",
    "<font size=4>Explore similar neighborhoods between Manhattan and Seattle</font>\n",
    "\n",
    "## Introduction\n",
    "\n",
    "We make decisions everyday, big or small, right or wrong. And every decision we made, makes us who we are.   \n",
    "In year 1994, a 30 year old young man decided to leave his lucrative job on Wall Street. He drove across the country all the way to Seattle and started an online bookstore. He named it Amazon. And the young man is Jeff Bezos. As he revealed later, he made this decision because of a report forecasting the rapid growth of Internet, also because of the fear of regret later in life.  \n",
    "Today due to the gold rush of AI, there is an urgent need for qualified IT talents. Many smart minds are thinking about starting a new career in one of those cities full of tech giants. Transferring to a new career, moving to a new city itself is already very challenging, of course we would hope the new neighborhood we are moving to is similar to the one that we have been living in, so that it won't take us too long to adapt to the new environment.  \n",
    "In this project, we are trying to do such an exciting thing. We are going to to explore the similarity between neighborhoods in Manhattan and Seattle, trying to figure out some insights. To complete this task, we are going to use Foursquare location data to get the most common venue categories in each neighborhood and then group the neighborhood in custers with Machine Learning Algorithm k-mean clusters, and plot the cluster result on a map generated with Folium.\n",
    "You may wonder why Seattle, why not Silicon Valley. Not only just because it is the headquarter of Amazon, it is also the headquarter of Microsoft, Zillow, Tableau, Expedia, other big tech companies like Google, Facebook, Twitter all have offices in Seattle. What's more, the living cost, especially the housing price is so friendly if compared with that in Silicon Valley. So if you are one of those IT Talents, make sure you take Seattle as an option before you making you decision."
   ]
  },
  {
   "cell_type": "markdown",
   "metadata": {},
   "source": [
    "## Data "
   ]
  },
  {
   "cell_type": "markdown",
   "metadata": {},
   "source": [
    "For this project, we will need to collect dataset below:\n",
    "\n",
    "- Manhattan neighborhood data with latitude and longitude coordinates\n",
    "\n",
    "- Seattle neighborhood data with latitude and longitude coordinates\n",
    "\n",
    "- Foursquare location data\n",
    "\n",
    "### Manhattan neighborhood data\n",
    "First we need the data of all neighborhoods in Manhattan, the coordinates of each neighborhood is required since with the coordinates info. of each neighborhood, we could get the most common venue categories nearby.\n",
    "\n",
    "We can find the this data on link below [https://geo.nyu.edu/catalog/nyu_2451_34572](https://geo.nyu.edu/catalog/nyu_2451_34572)\n",
    "\n",
    "On the right of the page we could download the file in different format, Shapefile, KMZ, GeoJSON, we will download a file in GeoJSON format.\n",
    "\n",
    "Since this data is for the whole New York, we will then get a subset of Manhattan only.\n",
    "\n",
    "### Seattle neighborhood data\n",
    "This is really a tough one.  \n",
    "We did not see any dataset with Seattle neighborhoods as well as coordinates, there is also hardly a webpage from where we could scrape this info.  \n",
    "In this case, we will have to divide this into 3 steps:\n",
    "\n",
    "1.  Get a dataset with Seattle neighborhood and zip code info.\n",
    "- Get a dataset with Seattle coordinates and zip code info.\n",
    "- Joint the 2 datasets above together \n",
    "\n",
    "####  Get a dataset with Seattle neighborhood and zip code info\n",
    "\n",
    "Some webpages have the zip codes, but they do not have any neighborhoods info.; while some other webpages have the neighborhoods info., but they do not have zip codes.   \n",
    "\n",
    "Finally I found [seattle area](http://seattlearea.com/zip-codes/) has both the zip codes and neighborhoods info., though it seems like incomplete. Another problem with this resource is that this webpage is not allowed to scrap since you get that 'Not Acceptable!' message from Mod_Security.   \n",
    "\n",
    "Then there is this [Sub-Regional, City and Neighborhood Designations by Zip Code file](http://www.agingkingcounty.org/wp-content/uploads/sites/185/2016/09/SubRegZipCityNeighborhood.pdf) that has both the zip code and neighborhood info. But seems like some neighborhood in the file is not correct, I  converted the file to pdf first and then modified the neighborhood info. with reference  to [seattle area](http://seattlearea.com/zip-codes/) and resources from some other website.\n",
    "\n",
    "Considerring that, Redmond, where The headquarter of Microsoft is located, is also a big attraction to the IT talents, and it is not far away from Seattle, we will also include Redmond in our dataset.\n",
    "\n",
    "#### Get a dataset with Seattle coordinates and zip code info\n",
    "\n",
    "We get this dataset on [United States Zip Codes](https://www.unitedstateszipcodes.org/wa/#zips-list)\n",
    "\n",
    "#### Joint the 2 datasets\n",
    "\n",
    "Joint the 2 datasets above together to get a dataset of Seattle neighborhoods as well as coordinates\n",
    "\n",
    "### Foursquare location data\n",
    "After we get the Manhattan neighborhood data and Seattle neighborhood data, we could use Foursquare to get the most common venue categories nearby each neighborhood in Manhattan and Seattle. And then group the neighborhood in custers with k-mean clusters Machine Learning Algorithm, and plot the cluster result on a map generated with Folium."
   ]
  },
  {
   "cell_type": "code",
   "execution_count": null,
   "metadata": {},
   "outputs": [],
   "source": []
  }
 ],
 "metadata": {
  "hide_input": false,
  "kernelspec": {
   "display_name": "Python 3",
   "language": "python",
   "name": "python3"
  },
  "language_info": {
   "codemirror_mode": {
    "name": "ipython",
    "version": 3
   },
   "file_extension": ".py",
   "mimetype": "text/x-python",
   "name": "python",
   "nbconvert_exporter": "python",
   "pygments_lexer": "ipython3",
   "version": "3.7.3"
  },
  "latex_envs": {
   "LaTeX_envs_menu_present": true,
   "autoclose": false,
   "autocomplete": true,
   "bibliofile": "biblio.bib",
   "cite_by": "apalike",
   "current_citInitial": 1,
   "eqLabelWithNumbers": true,
   "eqNumInitial": 1,
   "hotkeys": {
    "equation": "Ctrl-E",
    "itemize": "Ctrl-I"
   },
   "labels_anchors": false,
   "latex_user_defs": false,
   "report_style_numbering": false,
   "user_envs_cfg": false
  },
  "toc": {
   "base_numbering": 1,
   "nav_menu": {},
   "number_sections": true,
   "sideBar": true,
   "skip_h1_title": true,
   "title_cell": "Table of Contents",
   "title_sidebar": "Contents",
   "toc_cell": false,
   "toc_position": {},
   "toc_section_display": true,
   "toc_window_display": false
  }
 },
 "nbformat": 4,
 "nbformat_minor": 2
}
